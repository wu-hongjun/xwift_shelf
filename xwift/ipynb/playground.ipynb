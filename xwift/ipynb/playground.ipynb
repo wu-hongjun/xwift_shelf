{
 "metadata": {
  "language_info": {
   "codemirror_mode": {
    "name": "ipython",
    "version": 3
   },
   "file_extension": ".py",
   "mimetype": "text/x-python",
   "name": "python",
   "nbconvert_exporter": "python",
   "pygments_lexer": "ipython3",
   "version": "3.8.5-final"
  },
  "orig_nbformat": 2,
  "kernelspec": {
   "name": "python3",
   "display_name": "Python 3",
   "language": "python"
  }
 },
 "nbformat": 4,
 "nbformat_minor": 2,
 "cells": [
  {
   "cell_type": "code",
   "execution_count": 4,
   "metadata": {},
   "outputs": [
    {
     "output_type": "stream",
     "name": "stdout",
     "text": [
      "100\n"
     ]
    }
   ],
   "source": [
    "name = \"100.png\"\n",
    "itrImageStr = name.split(\".\")[0]\n",
    "print(itrImageStr)"
   ]
  },
  {
   "cell_type": "code",
   "execution_count": null,
   "metadata": {},
   "outputs": [],
   "source": [
    "def getNextImageNumber(self, imageDir):\n",
    "        imageFiles = []\n",
    "        items = os.listdir(imageDir)\n",
    "        for item in items:\n",
    "            if item.endswith('.png') == True:\n",
    "                imageFiles.append(item)\n",
    "        nextImage = -1\n",
    "        for f in imageFiles:\n",
    "            name = os.path.basename(f).split('.')[0]\n",
    "            itrImageStr = name.split(\".\")[0]\n",
    "            try:\n",
    "                itrImage = int(itrImageStr)\n",
    "                if itrImage > nextImage:\n",
    "                    nextImage = itrImage\n",
    "            except ValueError:\n",
    "                continue\n",
    "        nextImage += 1\n",
    "        return nextImage\n",
    "\n",
    "getNextImageNumber(self, \"C:\\\\Users\\\\hongj\\\\Desktop\\\\test\")"
   ]
  }
 ]
}